{
 "cells": [
  {
   "cell_type": "code",
   "execution_count": 3,
   "metadata": {
    "collapsed": true
   },
   "outputs": [],
   "source": [
    "import pandas as pd\n",
    "import numpy as np\n",
    "import os\n",
    "import sklearn.datasets\n",
    "import sklearn.metrics\n",
    "import docx2txt\n",
    "import nltk\n",
    "from nltk.corpus import stopwords\n",
    "from nltk import FreqDist\n",
    "from nltk.tokenize import word_tokenize, sent_tokenize\n",
    "import random"
   ]
  },
  {
   "cell_type": "code",
   "execution_count": 4,
   "metadata": {},
   "outputs": [
    {
     "name": "stdout",
     "output_type": "stream",
     "text": [
      "[nltk_data] Downloading package stopwords to\n",
      "[nltk_data]     C:\\Users\\Gill\\AppData\\Roaming\\nltk_data...\n",
      "[nltk_data]   Package stopwords is already up-to-date!\n"
     ]
    },
    {
     "data": {
      "text/plain": [
       "True"
      ]
     },
     "execution_count": 4,
     "metadata": {},
     "output_type": "execute_result"
    }
   ],
   "source": [
    "nltk.download('stopwords')"
   ]
  },
  {
   "cell_type": "code",
   "execution_count": 5,
   "metadata": {},
   "outputs": [],
   "source": [
    "s_words= set(stopwords.words('english'))\n",
    "s_words1={'.', ',', '\"', \"'\", '?', '!', ':', ';', '(', ')', '[', ']', '{', '}'}\n",
    "s_words_more={\"sender:\",\"date:\" ,\"like:\",\"|>\",\"the\"\n",
    "                ,\"subject:\", 'I',\"from:\",'>',\"newsgroups:\", \"message-id:\", \"path:\",\"apr\",\"lines:\", '|','-','--',\"would\", \"re:\", \"references:\",\n",
    "                \"1993\",\"article\",'*',\"xref\", '1','2',\"make\", \"good\", \"may\", \"even\",\"organization:\",\"gmt\",\"writes:\",\"xref\"}\n"
   ]
  },
  {
   "cell_type": "code",
   "execution_count": 8,
   "metadata": {},
   "outputs": [],
   "source": [
    "dir_path = \"20_newsgroups_1\"   # Path of the directory\n",
    "file_path=[]    #  Counting the no. of classes and storing them in  a array \n",
    "for files in os.listdir(\"20_newsgroups_1\"):\n",
    "    dict[files]= \"None\"\n",
    "    file_path.append(files)\n",
    "# print(file_path)\n",
    "    "
   ]
  },
  {
   "cell_type": "code",
   "execution_count": 9,
   "metadata": {},
   "outputs": [],
   "source": [
    "files = []      # Iterating all the folders and storing them in a array named as file\n",
    "for dirname, dirnames, filenames in os.walk(dir_path):\n",
    "    files += [os.path.join(dirname, filename) for filename in filenames]\n",
    "# print(files)\n",
    "\n",
    "\n"
   ]
  },
  {
   "cell_type": "code",
   "execution_count": 10,
   "metadata": {
    "collapsed": true
   },
   "outputs": [],
   "source": [
    "# Shuffling all the files\n",
    "random.shuffle(files)\n"
   ]
  },
  {
   "cell_type": "code",
   "execution_count": 11,
   "metadata": {},
   "outputs": [],
   "source": [
    "# Splitting into data_train and data_test after shuffling\n",
    "data_train=[]\n",
    "data_test=[]\n",
    "for i in range(17000):\n",
    "    data_train.append(files[i])\n",
    "    \n",
    "for i in range(17000, 19997):\n",
    "    data_test.append(files[i])\n",
    "# len(data_train)"
   ]
  },
  {
   "cell_type": "code",
   "execution_count": 14,
   "metadata": {},
   "outputs": [],
   "source": [
    "\n",
    "complete_words={}     ##dictionary to store the frequency of all the words in data_train\n",
    "for file in data_train:\n",
    "    f=open(file,'r')\n",
    "    for words in f.read().split():\n",
    "        words=words.lower()\n",
    "        if words not in s_words and words not in s_words1 and words not in s_words_more:  #if word not a stopword \n",
    "                \n",
    "                if words in complete_words:\n",
    "                    complete_words[words] += 1\n",
    "                else:\n",
    "                    complete_words[words] = 1\n"
   ]
  },
  {
   "cell_type": "code",
   "execution_count": 15,
   "metadata": {},
   "outputs": [],
   "source": [
    "fdist = FreqDist(complete_words).most_common(5000)  #picking up top 5000 words from the dictionary\n",
    "dict_fdist={}\n",
    "for i in range(len(fdist)):\n",
    "    dict_fdist[fdist[i][0]]= fdist[i][1]       #creating dictionary for top 5000 words\n",
    "        \n",
    "# dict_fdist  "
   ]
  },
  {
   "cell_type": "code",
   "execution_count": 16,
   "metadata": {},
   "outputs": [],
   "source": [
    "data_train_dictionary={}     # dictionary for training data_elements\n",
    "for file in data_train:                 #data_train is the list of files to be trained \n",
    "    path_list = file.split(os.sep)   #for separting '20_newsgroups_1\\\\rec.sport.baseball\\\\104828' into three parts\n",
    "    class_label= path_list[1]              #after separationg eg. rec.sport.baseball is the 1 index and is named class_label\n",
    "    if class_label in data_train_dictionary:    #checking if following class is in dictionary or not\n",
    "        values= data_train_dictionary[class_label]\n",
    "        f=open(file,'r')\n",
    "        for words in f.read().split():\n",
    "            words=words.lower()\n",
    "            if words in dict_fdist:     #if word available in top 2000 words, dict_fdist is dictionary containing top 2000 words\n",
    "                if words in values:    # if word already available in available class dictionary\n",
    "                    word_count = data_train_dictionary[class_label][words]\n",
    "                    data_train_dictionary[class_label][words]=word_count+1\n",
    "                else:\n",
    "                    data_train_dictionary[class_label][words]=1\n",
    "    else:\n",
    "        data_train_dictionary[class_label]={}\n",
    "        dict_word_freq={}\n",
    "        f=open(file,'r')\n",
    "        for words in f.read().split():\n",
    "            words=words.lower()\n",
    "            if words in dict_fdist:\n",
    "                if words in dict_word_freq:\n",
    "                    dict_word_freq[words] += 1\n",
    "                else:\n",
    "                    dict_word_freq[words] = 1\n",
    "        data_train_dictionary[class_label]= dict_word_freq \n",
    "\n",
    "# print(data_train_dictionary)\n",
    "   "
   ]
  },
  {
   "cell_type": "code",
   "execution_count": 18,
   "metadata": {},
   "outputs": [],
   "source": [
    "total_sum=0\n",
    "dict_sum={}\n",
    "\n",
    "for key in data_train_dictionary.keys():\n",
    "    values= data_train_dictionary[key]\n",
    "    sum_class=0\n",
    "    for value in values:\n",
    "#         print(data_train_dictionary[key][value], end=\" \")\n",
    "        sum_class+= data_train_dictionary[key][value]\n",
    "        total_sum+= data_train_dictionary[key][value]\n",
    "    dict_sum[key]= sum_class\n",
    "\n",
    "        \n",
    "        "
   ]
  },
  {
   "cell_type": "code",
   "execution_count": 20,
   "metadata": {
    "collapsed": true
   },
   "outputs": [],
   "source": [
    "def probability(dictionary, x , current_class):\n",
    "    \n",
    "    sum_current_class_entries= dict_sum[current_class]\n",
    "    prob= np.log(1)-np.log(20)\n",
    "    f=open(x,'r')\n",
    "    for words in f.read().split():\n",
    "        words=words.lower()\n",
    "        values= dictionary[current_class]\n",
    "        if(words in values):\n",
    "             prob+= np.log(dictionary[current_class][words] +1 )- np.log(sum_current_class_entries+len(dict_fdist))\n",
    "        else:\n",
    "             prob+= np.log(1)- np.log(len(dict_fdist))\n",
    "        \n",
    "    return prob\n",
    "        \n",
    "   \n"
   ]
  },
  {
   "cell_type": "code",
   "execution_count": 21,
   "metadata": {
    "collapsed": true
   },
   "outputs": [],
   "source": [
    "def predictSinglePoint(dictionary, x):\n",
    "    \n",
    "    classes= dictionary.keys()\n",
    "    best_prob= -1000000\n",
    "    best_class = -10\n",
    "    first_run = True\n",
    "    for current_class in classes:\n",
    "        \n",
    "        p_current_class = probability(dictionary, x, current_class)\n",
    "#         print(p_current_class, end=\" \")\n",
    "        if( first_run or p_current_class> best_prob):\n",
    "            best_prob= p_current_class\n",
    "            best_class = current_class\n",
    "        first_run = False\n",
    "#         print()\n",
    "        \n",
    "    return best_class"
   ]
  },
  {
   "cell_type": "code",
   "execution_count": 22,
   "metadata": {
    "collapsed": true
   },
   "outputs": [],
   "source": [
    "def test_dictionary(dictionary, x):\n",
    "    dict_test_freq={}\n",
    "    f=open(x,'r')\n",
    "    for words in f.read().split():\n",
    "            words=words.lower()\n",
    "#             print(words)\n",
    "            if words in dict_fdist:\n",
    "#                 print(\" i am in\")\n",
    "#                 print(words,  class_label)\n",
    "                if words in dict_test_freq:\n",
    "                    dict_test_freq[words] += 1\n",
    "                else:\n",
    "                    dict_test_freq[words] = 1\n",
    "    return dict_test_freq"
   ]
  },
  {
   "cell_type": "code",
   "execution_count": 23,
   "metadata": {
    "collapsed": true
   },
   "outputs": [],
   "source": [
    "def predict(dictionary, X_test):\n",
    "    \n",
    "    y_pred=[]\n",
    "    Y_test_initial=[]\n",
    "    for x in X_test:\n",
    "        path_list = x.split(os.sep)\n",
    "        class_label= path_list[1]\n",
    "        Y_test_initial.append(class_label)\n",
    "#         print(class_label,  x)\n",
    "#         dictionary_test= test_dictionary(dictionary, x)\n",
    "#         print(dictionary_test)\n",
    "        x_class = predictSinglePoint(dictionary, x)\n",
    "        y_pred.append(x_class)\n",
    "    return y_pred,Y_test_initial"
   ]
  },
  {
   "cell_type": "code",
   "execution_count": 24,
   "metadata": {},
   "outputs": [
    {
     "name": "stdout",
     "output_type": "stream",
     "text": [
      "['talk.religion.misc', 'comp.sys.mac.hardware', 'rec.sport.hockey', 'sci.space', 'comp.sys.mac.hardware', 'comp.os.ms-windows.misc', 'rec.sport.baseball', 'comp.windows.x', 'comp.sys.ibm.pc.hardware', 'comp.sys.ibm.pc.hardware', 'rec.autos', 'comp.sys.ibm.pc.hardware', 'talk.religion.misc', 'alt.atheism', 'sci.space', 'sci.crypt', 'comp.windows.x', 'rec.autos', 'comp.sys.ibm.pc.hardware', 'rec.motorcycles', 'talk.politics.mideast', 'rec.motorcycles', 'soc.religion.christian', 'talk.politics.misc', 'soc.religion.christian', 'comp.windows.x', 'alt.atheism', 'sci.electronics', 'misc.forsale', 'comp.sys.ibm.pc.hardware', 'talk.politics.mideast', 'sci.med', 'comp.graphics', 'rec.autos', 'misc.forsale', 'rec.motorcycles', 'rec.sport.baseball', 'soc.religion.christian', 'comp.sys.mac.hardware', 'sci.space', 'soc.religion.christian', 'talk.politics.guns', 'sci.electronics', 'sci.crypt', 'comp.sys.mac.hardware', 'alt.atheism', 'rec.sport.baseball', 'talk.religion.misc', 'rec.sport.baseball', 'comp.windows.x', 'comp.graphics', 'rec.motorcycles', 'rec.motorcycles', 'comp.windows.x', 'alt.atheism', 'rec.autos', 'soc.religion.christian', 'rec.motorcycles', 'rec.motorcycles', 'rec.sport.hockey', 'sci.space', 'alt.atheism', 'sci.med', 'comp.graphics', 'comp.sys.mac.hardware', 'rec.motorcycles', 'comp.sys.mac.hardware', 'soc.religion.christian', 'comp.sys.mac.hardware', 'rec.sport.hockey', 'sci.space', 'talk.politics.guns', 'talk.politics.guns', 'comp.os.ms-windows.misc', 'misc.forsale', 'comp.sys.mac.hardware', 'talk.politics.mideast', 'sci.space', 'talk.politics.misc', 'soc.religion.christian', 'comp.windows.x', 'comp.sys.ibm.pc.hardware', 'talk.politics.guns', 'rec.sport.hockey', 'sci.space', 'talk.politics.mideast', 'comp.sys.ibm.pc.hardware', 'rec.autos', 'comp.graphics', 'talk.politics.misc', 'comp.sys.mac.hardware', 'comp.windows.x', 'rec.sport.hockey', 'comp.os.ms-windows.misc', 'comp.graphics', 'sci.electronics', 'rec.sport.hockey', 'rec.sport.baseball', 'talk.politics.guns', 'rec.autos', 'rec.motorcycles', 'comp.sys.ibm.pc.hardware', 'talk.politics.guns', 'sci.med', 'misc.forsale', 'rec.sport.hockey', 'comp.graphics', 'talk.politics.mideast', 'rec.motorcycles', 'alt.atheism', 'rec.sport.baseball', 'rec.sport.hockey', 'sci.electronics', 'sci.electronics', 'rec.sport.hockey', 'sci.crypt', 'rec.autos', 'sci.space', 'comp.sys.ibm.pc.hardware', 'comp.os.ms-windows.misc', 'alt.atheism', 'comp.graphics', 'rec.motorcycles', 'comp.sys.ibm.pc.hardware', 'sci.space', 'rec.autos', 'talk.politics.mideast', 'rec.autos', 'sci.med', 'comp.sys.ibm.pc.hardware', 'sci.med', 'rec.motorcycles', 'rec.motorcycles', 'talk.politics.mideast', 'talk.religion.misc', 'comp.windows.x', 'sci.med', 'rec.autos', 'comp.sys.mac.hardware', 'comp.graphics', 'soc.religion.christian', 'alt.atheism', 'alt.atheism', 'comp.windows.x', 'rec.sport.baseball', 'alt.atheism', 'talk.religion.misc', 'comp.os.ms-windows.misc', 'misc.forsale', 'talk.politics.guns', 'sci.space', 'talk.politics.mideast', 'comp.sys.ibm.pc.hardware', 'talk.politics.misc', 'alt.atheism', 'alt.atheism', 'rec.sport.hockey', 'comp.graphics', 'sci.space', 'sci.crypt', 'misc.forsale', 'soc.religion.christian', 'comp.windows.x', 'rec.autos', 'comp.sys.mac.hardware', 'comp.sys.ibm.pc.hardware', 'comp.sys.ibm.pc.hardware', 'sci.space', 'sci.electronics', 'talk.politics.mideast', 'rec.motorcycles', 'misc.forsale', 'sci.space', 'talk.politics.misc', 'talk.politics.misc', 'rec.autos', 'talk.religion.misc', 'rec.autos', 'talk.politics.mideast', 'rec.autos', 'rec.autos', 'comp.graphics', 'talk.politics.misc', 'rec.sport.baseball', 'sci.electronics', 'soc.religion.christian', 'sci.electronics', 'talk.politics.misc', 'talk.politics.guns', 'talk.religion.misc', 'comp.os.ms-windows.misc', 'sci.med', 'rec.autos', 'comp.windows.x', 'rec.autos', 'talk.politics.mideast', 'talk.politics.mideast', 'misc.forsale', 'rec.motorcycles', 'soc.religion.christian', 'alt.atheism', 'sci.med', 'sci.space', 'talk.religion.misc', 'sci.med', 'sci.med', 'talk.religion.misc', 'alt.atheism', 'talk.religion.misc', 'talk.politics.mideast', 'talk.politics.guns', 'rec.motorcycles', 'misc.forsale', 'soc.religion.christian', 'rec.sport.hockey', 'sci.crypt', 'talk.politics.mideast', 'misc.forsale', 'sci.electronics', 'sci.crypt', 'talk.politics.guns', 'comp.sys.mac.hardware', 'sci.crypt', 'soc.religion.christian', 'comp.os.ms-windows.misc', 'rec.motorcycles', 'rec.sport.baseball', 'talk.politics.mideast', 'comp.sys.mac.hardware', 'soc.religion.christian', 'talk.politics.mideast', 'rec.autos', 'talk.religion.misc', 'rec.motorcycles', 'rec.autos', 'soc.religion.christian', 'rec.sport.hockey', 'talk.politics.misc', 'soc.religion.christian', 'soc.religion.christian', 'sci.electronics', 'alt.atheism', 'rec.sport.hockey', 'rec.sport.hockey', 'alt.atheism', 'rec.sport.baseball', 'talk.politics.mideast', 'rec.motorcycles', 'comp.windows.x', 'soc.religion.christian', 'comp.graphics', 'talk.politics.mideast', 'sci.med', 'sci.space', 'misc.forsale', 'rec.sport.hockey', 'rec.autos', 'soc.religion.christian', 'comp.sys.ibm.pc.hardware', 'rec.sport.baseball', 'comp.windows.x', 'rec.motorcycles', 'alt.atheism', 'talk.politics.guns', 'talk.politics.misc', 'comp.os.ms-windows.misc', 'talk.politics.misc', 'soc.religion.christian', 'comp.graphics', 'rec.motorcycles', 'talk.religion.misc', 'sci.space', 'alt.atheism', 'comp.sys.ibm.pc.hardware', 'rec.motorcycles', 'sci.space', 'sci.space', 'talk.politics.misc', 'talk.politics.guns', 'rec.motorcycles', 'rec.motorcycles', 'alt.atheism', 'talk.religion.misc', 'sci.crypt', 'talk.politics.misc', 'talk.politics.mideast', 'rec.sport.baseball', 'rec.sport.baseball', 'sci.crypt', 'rec.sport.baseball', 'comp.os.ms-windows.misc', 'alt.atheism', 'rec.motorcycles', 'talk.politics.guns', 'rec.motorcycles', 'soc.religion.christian', 'rec.sport.hockey', 'soc.religion.christian', 'alt.atheism', 'rec.sport.baseball', 'misc.forsale', 'rec.sport.hockey', 'comp.sys.mac.hardware', 'alt.atheism', 'talk.politics.mideast', 'sci.electronics', 'talk.politics.mideast', 'comp.sys.mac.hardware', 'sci.electronics', 'comp.os.ms-windows.misc', 'rec.sport.baseball', 'comp.sys.mac.hardware', 'talk.politics.misc', 'alt.atheism', 'sci.electronics', 'comp.sys.mac.hardware', 'sci.med', 'soc.religion.christian', 'sci.space', 'talk.politics.guns', 'soc.religion.christian', 'sci.space', 'talk.politics.mideast', 'rec.sport.baseball', 'sci.crypt', 'misc.forsale', 'rec.motorcycles', 'comp.os.ms-windows.misc', 'misc.forsale', 'talk.politics.misc', 'talk.politics.mideast', 'comp.sys.mac.hardware', 'talk.religion.misc', 'talk.politics.misc', 'soc.religion.christian', 'comp.windows.x', 'talk.politics.misc', 'sci.electronics', 'sci.crypt', 'rec.sport.hockey', 'talk.politics.misc', 'rec.motorcycles', 'talk.politics.misc', 'comp.sys.mac.hardware', 'comp.sys.ibm.pc.hardware', 'misc.forsale', 'comp.os.ms-windows.misc', 'talk.politics.guns', 'alt.atheism', 'talk.politics.mideast', 'rec.motorcycles', 'comp.graphics', 'rec.sport.hockey', 'misc.forsale', 'talk.politics.misc', 'talk.religion.misc', 'sci.med', 'comp.graphics', 'rec.autos', 'comp.graphics', 'comp.os.ms-windows.misc', 'rec.motorcycles', 'sci.med', 'rec.motorcycles', 'comp.sys.ibm.pc.hardware', 'talk.politics.mideast', 'sci.electronics', 'rec.autos', 'sci.med', 'misc.forsale', 'talk.religion.misc', 'talk.politics.misc', 'sci.crypt', 'rec.autos', 'comp.os.ms-windows.misc', 'sci.electronics', 'rec.sport.baseball', 'sci.crypt', 'talk.politics.misc', 'alt.atheism', 'sci.crypt', 'rec.sport.hockey', 'comp.os.ms-windows.misc', 'rec.autos', 'misc.forsale', 'rec.sport.baseball', 'comp.graphics', 'sci.electronics', 'sci.crypt', 'rec.autos', 'alt.atheism', 'sci.med', 'talk.politics.guns', 'soc.religion.christian', 'talk.politics.guns', 'alt.atheism', 'soc.religion.christian', 'rec.sport.hockey', 'comp.os.ms-windows.misc', 'comp.windows.x', 'talk.religion.misc', 'rec.sport.hockey', 'sci.crypt', 'sci.crypt', 'rec.autos', 'comp.os.ms-windows.misc', 'soc.religion.christian', 'sci.med', 'talk.politics.misc', 'talk.politics.guns', 'rec.sport.hockey', 'comp.graphics', 'comp.os.ms-windows.misc', 'comp.os.ms-windows.misc', 'rec.sport.hockey', 'comp.sys.ibm.pc.hardware', 'sci.space', 'comp.os.ms-windows.misc', 'rec.motorcycles', 'comp.sys.mac.hardware', 'misc.forsale', 'talk.politics.guns', 'sci.crypt', 'rec.motorcycles', 'comp.sys.mac.hardware', 'rec.autos', 'rec.sport.baseball', 'comp.windows.x', 'soc.religion.christian', 'talk.politics.guns', 'sci.electronics', 'rec.sport.hockey', 'misc.forsale', 'rec.sport.hockey', 'rec.sport.hockey', 'comp.sys.ibm.pc.hardware', 'sci.space', 'rec.autos', 'talk.politics.misc', 'rec.autos', 'rec.sport.hockey', 'comp.sys.ibm.pc.hardware', 'talk.politics.guns', 'sci.electronics', 'comp.os.ms-windows.misc', 'comp.sys.ibm.pc.hardware', 'talk.politics.guns', 'sci.med', 'comp.sys.mac.hardware', 'talk.politics.misc', 'sci.med', 'comp.os.ms-windows.misc', 'rec.sport.baseball', 'comp.sys.ibm.pc.hardware', 'rec.autos', 'alt.atheism', 'rec.autos', 'alt.atheism', 'comp.os.ms-windows.misc', 'rec.autos', 'comp.graphics', 'sci.crypt', 'talk.politics.misc', 'comp.graphics', 'rec.sport.baseball', 'alt.atheism', 'sci.electronics', 'talk.politics.guns', 'rec.autos', 'sci.med', 'comp.sys.ibm.pc.hardware', 'comp.sys.mac.hardware', 'comp.os.ms-windows.misc', 'comp.windows.x', 'talk.politics.guns', 'comp.sys.mac.hardware', 'talk.politics.guns', 'comp.sys.ibm.pc.hardware', 'comp.windows.x', 'misc.forsale', 'talk.politics.mideast', 'sci.space', 'misc.forsale', 'sci.crypt', 'sci.crypt', 'comp.os.ms-windows.misc', 'talk.religion.misc', 'sci.space', 'rec.motorcycles', 'sci.electronics', 'alt.atheism', 'alt.atheism', 'soc.religion.christian', 'comp.windows.x', 'talk.politics.mideast', 'talk.politics.guns', 'rec.autos', 'rec.sport.hockey', 'talk.politics.guns', 'talk.politics.mideast', 'rec.autos', 'rec.motorcycles', 'comp.windows.x', 'rec.autos', 'sci.med', 'comp.sys.ibm.pc.hardware', 'talk.politics.guns', 'alt.atheism', 'misc.forsale', 'comp.windows.x', 'rec.motorcycles', 'rec.sport.baseball', 'sci.electronics', 'rec.autos', 'alt.atheism', 'comp.os.ms-windows.misc', 'sci.electronics', 'talk.politics.mideast', 'sci.crypt', 'alt.atheism', 'rec.motorcycles', 'sci.space', 'rec.sport.baseball', 'misc.forsale', 'sci.electronics', 'alt.atheism', 'sci.med', 'rec.autos', 'sci.electronics', 'comp.windows.x', 'rec.autos', 'sci.electronics', 'talk.politics.misc', 'talk.politics.misc', 'comp.os.ms-windows.misc', 'sci.med', 'misc.forsale', 'comp.graphics', 'comp.sys.ibm.pc.hardware', 'rec.autos', 'misc.forsale', 'comp.sys.ibm.pc.hardware', 'comp.graphics', 'rec.motorcycles', 'comp.graphics', 'comp.sys.ibm.pc.hardware', 'comp.graphics', 'alt.atheism', 'alt.atheism', 'talk.politics.mideast', 'talk.politics.guns', 'comp.sys.ibm.pc.hardware', 'rec.autos', 'comp.sys.mac.hardware', 'misc.forsale', 'sci.electronics', 'sci.crypt', 'rec.autos', 'sci.space', 'sci.space', 'comp.graphics', 'alt.atheism', 'alt.atheism', 'comp.graphics', 'talk.politics.guns', 'comp.sys.mac.hardware', 'sci.electronics', 'rec.sport.baseball', 'talk.politics.misc', 'rec.autos', 'talk.politics.mideast', 'misc.forsale', 'comp.windows.x', 'rec.autos', 'comp.graphics', 'talk.politics.misc', 'comp.windows.x', 'talk.politics.misc', 'comp.graphics', 'talk.politics.misc', 'sci.electronics', 'sci.crypt', 'comp.windows.x', 'talk.politics.guns', 'sci.space', 'talk.politics.misc', 'comp.sys.mac.hardware', 'comp.sys.mac.hardware', 'sci.space', 'sci.electronics', 'comp.windows.x', 'misc.forsale', 'sci.space', 'comp.windows.x', 'talk.religion.misc', 'sci.space', 'alt.atheism', 'comp.os.ms-windows.misc', 'misc.forsale', 'rec.sport.baseball', 'talk.religion.misc', 'sci.space', 'sci.crypt', 'alt.atheism', 'soc.religion.christian', 'soc.religion.christian', 'rec.motorcycles', 'rec.autos', 'talk.politics.guns', 'rec.sport.hockey', 'sci.med', 'talk.politics.misc', 'misc.forsale', 'rec.autos', 'comp.os.ms-windows.misc', 'rec.sport.baseball', 'rec.sport.hockey', 'comp.sys.ibm.pc.hardware', 'comp.sys.ibm.pc.hardware', 'talk.politics.misc', 'sci.crypt', 'talk.politics.misc', 'comp.windows.x', 'soc.religion.christian', 'sci.crypt', 'soc.religion.christian', 'rec.sport.hockey', 'sci.med', 'alt.atheism', 'comp.graphics', 'sci.crypt', 'sci.crypt', 'comp.sys.mac.hardware', 'comp.windows.x', 'comp.graphics', 'comp.windows.x', 'rec.motorcycles', 'rec.motorcycles', 'talk.politics.guns', 'comp.sys.mac.hardware', 'alt.atheism', 'rec.sport.baseball', 'comp.sys.ibm.pc.hardware', 'rec.sport.baseball', 'talk.religion.misc', 'rec.motorcycles', 'soc.religion.christian', 'sci.electronics', 'rec.autos', 'sci.med', 'alt.atheism', 'rec.autos', 'talk.politics.misc', 'rec.sport.hockey', 'comp.os.ms-windows.misc', 'talk.politics.misc', 'talk.politics.misc', 'alt.atheism', 'rec.motorcycles', 'rec.sport.hockey', 'rec.sport.baseball', 'rec.sport.baseball', 'comp.sys.mac.hardware', 'comp.sys.ibm.pc.hardware', 'comp.sys.mac.hardware', 'comp.windows.x', 'alt.atheism', 'misc.forsale', 'rec.sport.hockey', 'rec.sport.hockey', 'talk.religion.misc', 'sci.electronics', 'rec.sport.baseball', 'talk.politics.misc', 'sci.med', 'misc.forsale', 'rec.autos', 'comp.os.ms-windows.misc', 'rec.autos', 'alt.atheism', 'comp.graphics', 'sci.electronics', 'talk.politics.misc', 'alt.atheism', 'comp.sys.ibm.pc.hardware', 'comp.sys.ibm.pc.hardware', 'rec.motorcycles', 'talk.politics.mideast', 'comp.os.ms-windows.misc', 'rec.sport.hockey', 'rec.sport.baseball', 'rec.sport.baseball', 'rec.sport.baseball', 'misc.forsale', 'rec.sport.hockey', 'rec.sport.hockey', 'sci.crypt', 'talk.politics.misc', 'talk.religion.misc', 'soc.religion.christian', 'misc.forsale', 'comp.graphics', 'comp.sys.mac.hardware', 'soc.religion.christian', 'rec.motorcycles', 'comp.sys.ibm.pc.hardware', 'rec.motorcycles', 'rec.sport.baseball', 'comp.sys.mac.hardware', 'rec.autos', 'rec.motorcycles', 'sci.crypt', 'alt.atheism', 'comp.windows.x', 'talk.politics.guns', 'rec.motorcycles', 'sci.space', 'sci.electronics', 'rec.autos', 'comp.os.ms-windows.misc', 'alt.atheism', 'comp.sys.ibm.pc.hardware', 'comp.graphics', 'sci.space', 'sci.space', 'sci.crypt', 'talk.politics.mideast', 'comp.sys.ibm.pc.hardware', 'soc.religion.christian', 'sci.crypt', 'misc.forsale', 'comp.os.ms-windows.misc', 'sci.electronics', 'talk.politics.misc', 'comp.os.ms-windows.misc', 'sci.space', 'comp.windows.x', 'sci.electronics', 'sci.electronics', 'talk.politics.mideast', 'sci.crypt', 'talk.politics.guns', 'rec.sport.baseball', 'rec.autos', 'rec.autos', 'talk.politics.mideast', 'comp.sys.mac.hardware', 'comp.sys.mac.hardware', 'rec.autos', 'talk.politics.mideast', 'talk.politics.guns', 'rec.motorcycles', 'talk.religion.misc', 'sci.crypt', 'talk.politics.mideast', 'comp.sys.ibm.pc.hardware', 'comp.os.ms-windows.misc', 'rec.sport.baseball', 'soc.religion.christian', 'talk.politics.misc', 'rec.sport.hockey', 'sci.crypt', 'comp.os.ms-windows.misc', 'misc.forsale', 'comp.os.ms-windows.misc', 'rec.motorcycles', 'comp.graphics', 'comp.windows.x', 'comp.graphics', 'talk.politics.guns', 'misc.forsale', 'talk.politics.guns', 'rec.motorcycles', 'comp.os.ms-windows.misc', 'comp.sys.mac.hardware', 'talk.politics.guns', 'rec.sport.baseball', 'comp.os.ms-windows.misc', 'talk.politics.guns', 'comp.os.ms-windows.misc', 'alt.atheism', 'comp.sys.mac.hardware', 'comp.sys.ibm.pc.hardware', 'rec.autos', 'comp.sys.mac.hardware', 'talk.politics.mideast', 'talk.politics.mideast', 'comp.sys.mac.hardware', 'sci.crypt', 'comp.sys.ibm.pc.hardware', 'talk.politics.misc', 'sci.space', 'soc.religion.christian', 'comp.graphics', 'talk.politics.misc', 'talk.politics.mideast', 'rec.sport.hockey', 'talk.politics.guns', 'sci.crypt', 'sci.crypt', 'rec.autos', 'alt.atheism', 'sci.med', 'rec.motorcycles', 'sci.med', 'talk.politics.misc', 'comp.sys.mac.hardware', 'rec.motorcycles', 'comp.os.ms-windows.misc', 'comp.sys.mac.hardware', 'rec.motorcycles', 'comp.sys.ibm.pc.hardware', 'sci.crypt', 'comp.sys.mac.hardware', 'rec.autos', 'rec.sport.baseball', 'talk.politics.guns', 'soc.religion.christian', 'rec.motorcycles', 'rec.motorcycles', 'comp.graphics', 'sci.med', 'rec.motorcycles', 'talk.politics.guns', 'comp.windows.x', 'talk.politics.guns', 'comp.sys.ibm.pc.hardware', 'soc.religion.christian', 'comp.graphics', 'rec.sport.baseball', 'alt.atheism', 'comp.windows.x', 'comp.sys.ibm.pc.hardware', 'sci.med', 'talk.politics.mideast', 'comp.graphics', 'talk.religion.misc', 'rec.sport.hockey', 'talk.politics.misc', 'rec.sport.baseball', 'sci.space', 'rec.sport.hockey', 'comp.windows.x', 'alt.atheism', 'soc.religion.christian', 'rec.motorcycles', 'talk.politics.mideast', 'comp.sys.ibm.pc.hardware', 'comp.sys.mac.hardware', 'alt.atheism', 'soc.religion.christian', 'comp.graphics', 'comp.windows.x', 'rec.sport.baseball', 'comp.sys.ibm.pc.hardware', 'talk.politics.mideast', 'comp.graphics', 'comp.windows.x', 'misc.forsale', 'soc.religion.christian', 'alt.atheism', 'sci.electronics', 'rec.sport.baseball', 'sci.space', 'sci.crypt', 'misc.forsale', 'talk.religion.misc', 'rec.motorcycles', 'alt.atheism', 'comp.graphics', 'rec.autos', 'rec.sport.hockey', 'rec.autos', 'rec.autos', 'comp.sys.ibm.pc.hardware', 'sci.electronics', 'talk.religion.misc', 'sci.space', 'sci.crypt', 'rec.sport.hockey', 'rec.sport.hockey', 'comp.graphics', 'talk.religion.misc', 'comp.windows.x', 'rec.motorcycles', 'comp.sys.ibm.pc.hardware', 'rec.sport.hockey', 'rec.sport.baseball', 'talk.politics.mideast', 'comp.graphics', 'sci.space', 'sci.electronics', 'talk.politics.guns', 'soc.religion.christian', 'sci.electronics', 'comp.sys.ibm.pc.hardware', 'sci.crypt', 'sci.electronics', 'talk.religion.misc', 'comp.os.ms-windows.misc', 'comp.windows.x', 'talk.politics.misc', 'misc.forsale', 'rec.sport.hockey', 'rec.motorcycles', 'misc.forsale', 'rec.motorcycles', 'sci.electronics', 'sci.med', 'talk.politics.misc', 'rec.sport.baseball', 'sci.space', 'talk.religion.misc', 'sci.crypt', 'comp.sys.ibm.pc.hardware', 'comp.sys.mac.hardware', 'talk.politics.mideast', 'rec.autos', 'talk.religion.misc', 'rec.autos', 'rec.sport.baseball', 'comp.os.ms-windows.misc', 'comp.windows.x', 'sci.crypt', 'soc.religion.christian', 'talk.politics.guns', 'soc.religion.christian', 'rec.sport.hockey', 'rec.sport.hockey', 'rec.sport.hockey', 'sci.electronics', 'sci.space', 'comp.sys.ibm.pc.hardware', 'comp.os.ms-windows.misc', 'sci.med', 'comp.sys.ibm.pc.hardware', 'rec.sport.baseball', 'soc.religion.christian', 'sci.electronics', 'comp.sys.ibm.pc.hardware', 'comp.sys.mac.hardware', 'comp.os.ms-windows.misc', 'rec.motorcycles', 'sci.space', 'sci.med', 'comp.sys.mac.hardware', 'talk.politics.misc', 'comp.sys.ibm.pc.hardware', 'sci.electronics', 'rec.sport.hockey', 'comp.windows.x', 'comp.sys.ibm.pc.hardware', 'rec.autos', 'rec.sport.hockey', 'rec.autos', 'comp.windows.x', 'talk.religion.misc', 'rec.autos', 'rec.sport.hockey', 'comp.sys.ibm.pc.hardware', 'sci.electronics', 'comp.os.ms-windows.misc', 'comp.windows.x', 'sci.med', 'rec.sport.hockey', 'rec.sport.hockey', 'sci.crypt', 'rec.autos', 'misc.forsale', 'talk.politics.misc', 'rec.motorcycles', 'comp.graphics', 'rec.sport.baseball', 'comp.sys.mac.hardware', 'rec.sport.hockey', 'sci.crypt', 'rec.autos', 'comp.windows.x', 'misc.forsale', 'talk.politics.guns', 'talk.religion.misc', 'sci.electronics', 'misc.forsale', 'talk.politics.guns', 'alt.atheism', 'rec.motorcycles', 'comp.graphics', 'comp.os.ms-windows.misc', 'rec.sport.hockey', 'alt.atheism', 'sci.med', 'rec.sport.baseball', 'sci.electronics', 'rec.sport.baseball', 'soc.religion.christian', 'rec.sport.hockey', 'sci.space', 'rec.sport.hockey', 'sci.med', 'comp.graphics', 'rec.motorcycles', 'comp.os.ms-windows.misc', 'comp.sys.mac.hardware', 'comp.sys.mac.hardware', 'sci.med', 'comp.os.ms-windows.misc', 'comp.os.ms-windows.misc', 'talk.politics.mideast', 'talk.politics.mideast', 'comp.graphics', 'sci.space', 'talk.politics.mideast', 'talk.politics.mideast', 'rec.motorcycles', 'comp.graphics', 'talk.politics.guns', 'comp.windows.x', 'talk.politics.mideast', 'talk.politics.mideast', 'comp.windows.x', 'comp.os.ms-windows.misc', 'comp.sys.ibm.pc.hardware', 'rec.sport.baseball', 'alt.atheism', 'talk.politics.misc', 'comp.sys.ibm.pc.hardware', 'rec.motorcycles', 'rec.sport.baseball', 'rec.sport.hockey', 'sci.space', 'talk.politics.mideast', 'comp.os.ms-windows.misc', 'comp.os.ms-windows.misc', 'sci.space', 'sci.electronics', 'misc.forsale', 'alt.atheism', 'sci.space', 'talk.politics.guns', 'soc.religion.christian', 'talk.politics.misc', 'rec.sport.baseball', 'alt.atheism', 'soc.religion.christian', 'comp.graphics', 'rec.autos', 'sci.crypt', 'misc.forsale', 'sci.med', 'sci.electronics', 'misc.forsale', 'alt.atheism', 'sci.space', 'sci.med', 'talk.politics.mideast', 'alt.atheism', 'comp.windows.x', 'alt.atheism', 'talk.politics.misc', 'talk.politics.mideast', 'comp.sys.mac.hardware', 'soc.religion.christian', 'talk.politics.guns', 'comp.sys.mac.hardware', 'talk.religion.misc', 'alt.atheism', 'sci.space', 'comp.sys.mac.hardware', 'alt.atheism', 'soc.religion.christian', 'comp.sys.ibm.pc.hardware', 'alt.atheism', 'rec.sport.hockey', 'comp.sys.ibm.pc.hardware', 'misc.forsale', 'talk.religion.misc', 'talk.politics.misc', 'talk.politics.guns', 'talk.politics.guns', 'soc.religion.christian', 'sci.electronics', 'sci.crypt', 'comp.sys.mac.hardware', 'sci.electronics', 'rec.sport.baseball', 'soc.religion.christian', 'talk.politics.mideast', 'talk.politics.mideast', 'comp.sys.mac.hardware', 'sci.electronics', 'comp.os.ms-windows.misc', 'sci.med', 'talk.politics.misc', 'comp.sys.mac.hardware', 'soc.religion.christian', 'rec.autos', 'rec.sport.baseball', 'talk.politics.mideast', 'alt.atheism', 'soc.religion.christian', 'talk.politics.guns', 'soc.religion.christian', 'rec.motorcycles', 'soc.religion.christian', 'comp.sys.ibm.pc.hardware', 'comp.sys.ibm.pc.hardware', 'rec.autos', 'rec.autos', 'comp.graphics', 'talk.politics.mideast', 'sci.electronics', 'sci.crypt', 'sci.electronics', 'sci.med', 'sci.electronics', 'soc.religion.christian', 'rec.sport.hockey', 'misc.forsale', 'alt.atheism', 'talk.politics.guns', 'comp.graphics', 'soc.religion.christian', 'talk.politics.guns', 'rec.sport.baseball', 'comp.sys.ibm.pc.hardware', 'rec.autos', 'alt.atheism', 'comp.os.ms-windows.misc', 'comp.os.ms-windows.misc', 'rec.sport.baseball', 'rec.autos', 'rec.sport.hockey', 'rec.motorcycles', 'rec.motorcycles', 'sci.med', 'alt.atheism', 'sci.crypt', 'rec.motorcycles', 'rec.sport.hockey', 'comp.sys.ibm.pc.hardware', 'comp.sys.mac.hardware', 'sci.space', 'talk.religion.misc', 'comp.windows.x', 'sci.crypt', 'comp.sys.mac.hardware', 'comp.windows.x', 'rec.sport.baseball', 'soc.religion.christian', 'rec.sport.baseball', 'misc.forsale', 'misc.forsale', 'sci.electronics', 'rec.motorcycles', 'sci.electronics', 'misc.forsale', 'sci.med', 'sci.electronics', 'sci.space', 'comp.sys.mac.hardware', 'sci.space', 'soc.religion.christian', 'comp.sys.ibm.pc.hardware', 'rec.motorcycles', 'rec.sport.hockey', 'sci.electronics', 'comp.os.ms-windows.misc', 'sci.space', 'comp.sys.ibm.pc.hardware', 'rec.sport.baseball', 'rec.sport.hockey', 'sci.electronics', 'rec.motorcycles', 'rec.sport.baseball', 'sci.crypt', 'comp.sys.ibm.pc.hardware', 'comp.os.ms-windows.misc', 'comp.graphics', 'rec.motorcycles', 'comp.sys.mac.hardware', 'comp.windows.x', 'talk.politics.guns', 'rec.autos', 'sci.med', 'sci.med', 'rec.sport.hockey', 'rec.sport.hockey', 'comp.os.ms-windows.misc', 'talk.religion.misc', 'comp.graphics', 'sci.electronics', 'sci.space', 'misc.forsale', 'sci.electronics', 'sci.med', 'talk.politics.guns', 'comp.windows.x', 'sci.med', 'sci.space', 'comp.sys.ibm.pc.hardware', 'comp.sys.ibm.pc.hardware', 'sci.electronics', 'misc.forsale', 'comp.sys.ibm.pc.hardware', 'misc.forsale', 'comp.sys.ibm.pc.hardware', 'alt.atheism', 'rec.sport.hockey', 'soc.religion.christian', 'comp.sys.mac.hardware', 'soc.religion.christian', 'rec.sport.hockey', 'talk.politics.mideast', 'comp.os.ms-windows.misc', 'sci.med', 'sci.crypt', 'sci.space', 'comp.os.ms-windows.misc', 'sci.med', 'sci.space', 'sci.space', 'rec.sport.hockey', 'rec.sport.baseball', 'misc.forsale', 'comp.sys.mac.hardware', 'comp.os.ms-windows.misc', 'comp.graphics', 'comp.sys.ibm.pc.hardware', 'comp.os.ms-windows.misc', 'rec.motorcycles', 'comp.sys.mac.hardware', 'rec.sport.hockey', 'sci.crypt', 'soc.religion.christian', 'talk.politics.guns', 'comp.sys.mac.hardware', 'sci.crypt', 'rec.sport.baseball', 'talk.politics.mideast', 'alt.atheism', 'talk.politics.guns', 'sci.med', 'talk.politics.guns', 'talk.politics.guns', 'sci.crypt', 'comp.sys.ibm.pc.hardware', 'misc.forsale', 'comp.sys.mac.hardware', 'soc.religion.christian', 'comp.sys.mac.hardware', 'rec.autos', 'comp.os.ms-windows.misc', 'comp.windows.x', 'comp.sys.ibm.pc.hardware', 'comp.graphics', 'sci.med', 'rec.sport.hockey', 'talk.religion.misc', 'comp.sys.mac.hardware', 'sci.med', 'talk.politics.mideast', 'talk.politics.misc', 'sci.crypt', 'soc.religion.christian', 'rec.sport.baseball', 'talk.religion.misc', 'comp.os.ms-windows.misc', 'sci.med', 'sci.space', 'sci.electronics', 'talk.politics.mideast', 'comp.sys.mac.hardware', 'rec.sport.hockey', 'rec.sport.hockey', 'comp.os.ms-windows.misc', 'rec.autos', 'misc.forsale', 'talk.politics.guns', 'comp.sys.mac.hardware', 'talk.politics.mideast', 'rec.motorcycles', 'talk.politics.guns', 'sci.space', 'sci.med', 'misc.forsale', 'misc.forsale', 'rec.motorcycles', 'talk.politics.mideast', 'talk.politics.guns', 'talk.politics.guns', 'rec.sport.hockey', 'comp.graphics', 'comp.sys.ibm.pc.hardware', 'sci.med', 'talk.politics.misc', 'alt.atheism', 'comp.windows.x', 'alt.atheism', 'sci.space', 'rec.sport.hockey', 'comp.graphics', 'rec.autos', 'talk.religion.misc', 'comp.sys.mac.hardware', 'comp.graphics', 'sci.space', 'soc.religion.christian', 'sci.electronics', 'misc.forsale', 'misc.forsale', 'rec.autos', 'alt.atheism', 'alt.atheism', 'rec.sport.hockey', 'sci.med', 'comp.graphics', 'rec.motorcycles', 'sci.electronics', 'sci.med', 'comp.sys.mac.hardware', 'sci.electronics', 'talk.politics.guns', 'rec.motorcycles', 'comp.windows.x', 'rec.autos', 'soc.religion.christian', 'alt.atheism', 'talk.politics.misc', 'soc.religion.christian', 'talk.politics.guns', 'soc.religion.christian', 'misc.forsale', 'talk.politics.mideast', 'comp.sys.mac.hardware', 'comp.windows.x', 'soc.religion.christian', 'soc.religion.christian', 'sci.electronics', 'rec.motorcycles', 'comp.windows.x', 'sci.electronics', 'comp.os.ms-windows.misc', 'rec.motorcycles', 'misc.forsale', 'misc.forsale', 'talk.politics.mideast', 'comp.windows.x', 'talk.politics.misc', 'talk.politics.mideast', 'comp.sys.ibm.pc.hardware', 'sci.med', 'alt.atheism', 'comp.os.ms-windows.misc', 'rec.autos', 'soc.religion.christian', 'misc.forsale', 'sci.med', 'rec.autos', 'rec.autos', 'comp.graphics', 'talk.religion.misc', 'comp.sys.mac.hardware', 'comp.os.ms-windows.misc', 'comp.sys.mac.hardware', 'sci.med', 'rec.autos', 'comp.os.ms-windows.misc', 'comp.graphics', 'misc.forsale', 'comp.windows.x', 'rec.autos', 'alt.atheism', 'talk.politics.mideast', 'comp.windows.x', 'comp.sys.ibm.pc.hardware', 'sci.crypt', 'rec.motorcycles', 'talk.politics.guns', 'rec.sport.baseball', 'comp.sys.mac.hardware', 'comp.sys.ibm.pc.hardware', 'talk.politics.mideast', 'comp.windows.x', 'comp.os.ms-windows.misc', 'comp.os.ms-windows.misc', 'rec.motorcycles', 'comp.sys.mac.hardware', 'alt.atheism', 'comp.os.ms-windows.misc', 'rec.motorcycles', 'sci.med', 'comp.sys.mac.hardware', 'comp.windows.x', 'rec.sport.hockey', 'rec.motorcycles', 'talk.politics.guns', 'talk.politics.guns', 'comp.sys.ibm.pc.hardware', 'sci.electronics', 'rec.sport.hockey', 'sci.med', 'sci.crypt', 'rec.sport.hockey', 'comp.windows.x', 'talk.politics.guns', 'rec.sport.baseball', 'comp.sys.ibm.pc.hardware', 'rec.motorcycles', 'talk.politics.guns', 'soc.religion.christian', 'comp.sys.mac.hardware', 'comp.graphics', 'talk.religion.misc', 'comp.sys.mac.hardware', 'misc.forsale', 'sci.med', 'comp.os.ms-windows.misc', 'rec.sport.baseball', 'sci.med', 'rec.autos', 'comp.windows.x', 'comp.sys.ibm.pc.hardware', 'sci.electronics', 'comp.graphics', 'talk.politics.mideast', 'talk.politics.guns', 'talk.politics.guns', 'comp.windows.x', 'misc.forsale', 'alt.atheism', 'talk.politics.misc', 'misc.forsale', 'sci.med', 'sci.space', 'comp.windows.x', 'rec.motorcycles', 'rec.sport.baseball', 'sci.electronics', 'rec.motorcycles', 'comp.graphics', 'sci.crypt', 'alt.atheism', 'comp.sys.ibm.pc.hardware', 'comp.sys.mac.hardware', 'talk.politics.misc', 'rec.sport.baseball', 'talk.politics.guns', 'talk.politics.misc', 'rec.sport.baseball', 'rec.sport.baseball', 'sci.space', 'comp.sys.ibm.pc.hardware', 'talk.religion.misc', 'rec.autos', 'rec.sport.baseball', 'talk.politics.guns', 'alt.atheism', 'comp.sys.ibm.pc.hardware', 'comp.os.ms-windows.misc', 'sci.space', 'sci.crypt', 'comp.os.ms-windows.misc', 'talk.religion.misc', 'sci.crypt', 'alt.atheism', 'sci.crypt', 'comp.sys.ibm.pc.hardware', 'soc.religion.christian', 'rec.sport.baseball', 'talk.politics.guns', 'sci.med', 'soc.religion.christian', 'soc.religion.christian', 'sci.crypt', 'talk.politics.mideast', 'talk.politics.guns', 'rec.autos', 'rec.sport.hockey', 'sci.crypt', 'rec.motorcycles', 'sci.space', 'talk.religion.misc', 'sci.electronics', 'sci.electronics', 'alt.atheism', 'comp.sys.ibm.pc.hardware', 'comp.sys.ibm.pc.hardware', 'rec.sport.hockey', 'misc.forsale', 'comp.windows.x', 'rec.sport.hockey', 'sci.crypt', 'rec.sport.hockey', 'talk.politics.guns', 'talk.politics.guns', 'rec.autos', 'comp.os.ms-windows.misc', 'soc.religion.christian', 'sci.space', 'misc.forsale', 'sci.space', 'sci.crypt', 'sci.med', 'sci.crypt', 'talk.politics.guns', 'sci.crypt', 'rec.autos', 'misc.forsale', 'sci.crypt', 'sci.electronics', 'comp.graphics', 'alt.atheism', 'sci.electronics', 'comp.sys.ibm.pc.hardware', 'rec.autos', 'comp.graphics', 'misc.forsale', 'misc.forsale', 'sci.electronics', 'comp.sys.mac.hardware', 'talk.politics.mideast', 'sci.crypt', 'rec.sport.hockey', 'sci.space', 'comp.sys.ibm.pc.hardware', 'talk.politics.mideast', 'rec.motorcycles', 'sci.med', 'rec.sport.hockey', 'comp.os.ms-windows.misc', 'talk.politics.misc', 'rec.sport.hockey', 'talk.politics.guns', 'sci.crypt', 'soc.religion.christian', 'sci.space', 'sci.space', 'talk.politics.mideast', 'soc.religion.christian', 'talk.politics.guns', 'comp.graphics', 'talk.religion.misc', 'talk.politics.misc', 'rec.motorcycles', 'talk.politics.mideast', 'alt.atheism', 'comp.sys.ibm.pc.hardware', 'rec.sport.hockey', 'comp.sys.ibm.pc.hardware', 'alt.atheism', 'talk.politics.misc', 'talk.politics.guns', 'talk.religion.misc', 'sci.electronics', 'comp.os.ms-windows.misc', 'rec.motorcycles', 'sci.med', 'talk.politics.guns', 'misc.forsale', 'sci.crypt', 'comp.sys.mac.hardware', 'sci.space', 'rec.sport.baseball', 'rec.motorcycles', 'sci.space', 'rec.sport.baseball', 'comp.sys.ibm.pc.hardware', 'talk.politics.misc', 'rec.motorcycles', 'comp.sys.ibm.pc.hardware', 'sci.electronics', 'sci.med', 'alt.atheism', 'rec.sport.baseball', 'comp.windows.x', 'talk.politics.guns', 'sci.space', 'soc.religion.christian', 'sci.space', 'rec.autos', 'comp.graphics', 'comp.sys.ibm.pc.hardware', 'comp.graphics', 'rec.motorcycles', 'comp.sys.ibm.pc.hardware', 'misc.forsale', 'sci.electronics', 'sci.space', 'rec.autos', 'alt.atheism', 'comp.sys.mac.hardware', 'sci.electronics', 'talk.religion.misc', 'talk.politics.misc', 'talk.religion.misc', 'talk.religion.misc', 'comp.sys.ibm.pc.hardware', 'comp.windows.x', 'sci.crypt', 'sci.crypt', 'sci.space', 'rec.sport.hockey', 'rec.motorcycles', 'rec.motorcycles', 'sci.space', 'talk.politics.guns', 'rec.sport.hockey', 'sci.space', 'sci.med', 'rec.sport.hockey', 'comp.sys.mac.hardware', 'rec.sport.hockey', 'alt.atheism', 'rec.motorcycles', 'comp.windows.x', 'soc.religion.christian', 'rec.autos', 'comp.sys.mac.hardware', 'talk.politics.guns', 'talk.politics.guns', 'talk.politics.mideast', 'talk.politics.misc', 'alt.atheism', 'rec.motorcycles', 'comp.sys.ibm.pc.hardware', 'rec.sport.baseball', 'misc.forsale', 'sci.space', 'rec.motorcycles', 'talk.politics.guns', 'talk.politics.guns', 'misc.forsale', 'rec.motorcycles', 'rec.motorcycles', 'alt.atheism', 'rec.autos', 'rec.sport.baseball', 'misc.forsale', 'rec.autos', 'sci.electronics', 'rec.sport.baseball', 'rec.sport.hockey', 'rec.sport.baseball', 'misc.forsale', 'comp.os.ms-windows.misc', 'rec.motorcycles', 'talk.politics.misc', 'alt.atheism', 'sci.electronics', 'alt.atheism', 'alt.atheism', 'comp.os.ms-windows.misc', 'alt.atheism', 'rec.motorcycles', 'sci.electronics', 'comp.windows.x', 'comp.graphics', 'talk.politics.misc', 'comp.windows.x', 'talk.politics.mideast', 'sci.space', 'misc.forsale', 'talk.politics.guns', 'talk.politics.misc', 'comp.windows.x', 'misc.forsale', 'sci.crypt', 'comp.graphics', 'talk.politics.misc', 'comp.os.ms-windows.misc', 'comp.windows.x', 'soc.religion.christian', 'comp.windows.x', 'talk.politics.guns', 'talk.politics.guns', 'talk.politics.mideast', 'alt.atheism', 'misc.forsale', 'rec.sport.baseball', 'talk.religion.misc', 'rec.autos', 'misc.forsale', 'comp.sys.mac.hardware', 'alt.atheism', 'comp.sys.ibm.pc.hardware', 'comp.windows.x', 'comp.sys.mac.hardware', 'comp.sys.ibm.pc.hardware', 'comp.windows.x', 'comp.os.ms-windows.misc', 'alt.atheism', 'comp.windows.x', 'rec.sport.hockey', 'alt.atheism', 'comp.sys.ibm.pc.hardware', 'comp.sys.ibm.pc.hardware', 'comp.windows.x', 'sci.crypt', 'rec.sport.baseball', 'rec.motorcycles', 'comp.sys.mac.hardware', 'comp.sys.ibm.pc.hardware', 'talk.politics.misc', 'rec.autos', 'rec.autos', 'rec.autos', 'rec.sport.baseball', 'alt.atheism', 'sci.med', 'sci.med', 'talk.politics.guns', 'sci.electronics', 'talk.politics.mideast', 'soc.religion.christian', 'rec.motorcycles', 'sci.space', 'comp.sys.ibm.pc.hardware', 'comp.sys.mac.hardware', 'comp.os.ms-windows.misc', 'rec.sport.baseball', 'comp.sys.mac.hardware', 'talk.politics.mideast', 'sci.space', 'misc.forsale', 'comp.sys.ibm.pc.hardware', 'comp.windows.x', 'talk.politics.misc', 'rec.sport.hockey', 'comp.windows.x', 'misc.forsale', 'comp.graphics', 'talk.religion.misc', 'comp.os.ms-windows.misc', 'talk.politics.misc', 'sci.med', 'soc.religion.christian', 'talk.politics.misc', 'talk.religion.misc', 'talk.politics.mideast', 'sci.crypt', 'comp.graphics', 'sci.electronics', 'rec.sport.baseball', 'talk.politics.mideast', 'sci.med', 'comp.sys.ibm.pc.hardware', 'rec.sport.baseball', 'sci.space', 'sci.med', 'talk.politics.guns', 'rec.motorcycles', 'alt.atheism', 'sci.electronics', 'misc.forsale', 'comp.os.ms-windows.misc', 'talk.politics.mideast', 'comp.windows.x', 'rec.motorcycles', 'rec.sport.hockey', 'alt.atheism', 'sci.med', 'comp.sys.mac.hardware', 'rec.sport.baseball', 'sci.electronics', 'misc.forsale', 'alt.atheism', 'rec.autos', 'comp.sys.ibm.pc.hardware', 'talk.religion.misc', 'comp.sys.mac.hardware', 'sci.space', 'sci.med', 'sci.space', 'sci.electronics', 'talk.politics.guns', 'talk.politics.guns', 'sci.crypt', 'comp.sys.mac.hardware', 'rec.motorcycles', 'alt.atheism', 'comp.os.ms-windows.misc', 'soc.religion.christian', 'comp.graphics', 'sci.crypt', 'rec.sport.baseball', 'sci.crypt', 'comp.os.ms-windows.misc', 'sci.space', 'soc.religion.christian', 'rec.sport.hockey', 'comp.sys.mac.hardware', 'comp.os.ms-windows.misc', 'sci.space', 'comp.sys.ibm.pc.hardware', 'comp.windows.x', 'rec.sport.baseball', 'rec.autos', 'rec.motorcycles', 'soc.religion.christian', 'comp.windows.x', 'sci.space', 'sci.electronics', 'comp.sys.ibm.pc.hardware', 'misc.forsale', 'sci.med', 'rec.motorcycles', 'comp.os.ms-windows.misc', 'comp.windows.x', 'soc.religion.christian', 'sci.med', 'talk.politics.misc', 'talk.politics.guns', 'sci.crypt', 'alt.atheism', 'sci.crypt', 'sci.crypt', 'rec.sport.baseball', 'sci.crypt', 'talk.politics.mideast', 'comp.windows.x', 'comp.os.ms-windows.misc', 'comp.sys.ibm.pc.hardware', 'rec.sport.baseball', 'comp.graphics', 'sci.electronics', 'talk.religion.misc', 'comp.sys.ibm.pc.hardware', 'rec.motorcycles', 'soc.religion.christian', 'comp.windows.x', 'rec.motorcycles', 'comp.os.ms-windows.misc', 'comp.sys.ibm.pc.hardware', 'talk.religion.misc', 'comp.graphics', 'misc.forsale', 'comp.sys.ibm.pc.hardware', 'rec.autos', 'sci.electronics', 'alt.atheism', 'talk.politics.misc', 'sci.med', 'alt.atheism', 'sci.electronics', 'sci.space', 'rec.sport.baseball', 'talk.politics.misc', 'comp.sys.ibm.pc.hardware', 'comp.graphics', 'sci.space', 'comp.sys.ibm.pc.hardware', 'misc.forsale', 'comp.os.ms-windows.misc', 'rec.sport.baseball', 'comp.sys.mac.hardware', 'comp.windows.x', 'soc.religion.christian', 'sci.crypt', 'comp.graphics', 'sci.crypt', 'comp.sys.mac.hardware', 'comp.os.ms-windows.misc', 'rec.sport.baseball', 'rec.sport.baseball', 'misc.forsale', 'comp.graphics', 'comp.os.ms-windows.misc', 'soc.religion.christian', 'rec.motorcycles', 'rec.autos', 'talk.religion.misc', 'comp.windows.x', 'comp.windows.x', 'talk.politics.misc', 'rec.motorcycles', 'rec.motorcycles', 'rec.autos', 'rec.sport.baseball', 'talk.politics.mideast', 'rec.sport.baseball', 'comp.graphics', 'talk.religion.misc', 'comp.sys.mac.hardware', 'rec.sport.hockey', 'rec.autos', 'sci.crypt', 'sci.crypt', 'talk.politics.guns', 'comp.graphics', 'talk.religion.misc', 'talk.politics.mideast', 'misc.forsale', 'misc.forsale', 'talk.politics.guns', 'talk.politics.guns', 'sci.space', 'talk.politics.guns', 'comp.windows.x', 'soc.religion.christian', 'comp.sys.mac.hardware', 'talk.politics.misc', 'sci.electronics', 'comp.sys.mac.hardware', 'rec.autos', 'alt.atheism', 'rec.sport.hockey', 'alt.atheism', 'sci.space', 'soc.religion.christian', 'misc.forsale', 'talk.politics.misc', 'rec.sport.hockey', 'comp.sys.ibm.pc.hardware', 'comp.graphics', 'soc.religion.christian', 'comp.sys.ibm.pc.hardware', 'soc.religion.christian', 'talk.politics.mideast', 'comp.sys.ibm.pc.hardware', 'sci.electronics', 'soc.religion.christian', 'comp.sys.ibm.pc.hardware', 'talk.politics.mideast', 'talk.religion.misc', 'comp.windows.x', 'sci.space', 'alt.atheism', 'talk.religion.misc', 'rec.autos', 'alt.atheism', 'rec.autos', 'sci.med', 'sci.space', 'alt.atheism', 'rec.sport.baseball', 'soc.religion.christian', 'comp.graphics', 'comp.sys.mac.hardware', 'sci.electronics', 'rec.motorcycles', 'rec.motorcycles', 'comp.graphics', 'talk.politics.mideast', 'comp.graphics', 'sci.electronics', 'sci.space', 'rec.sport.hockey', 'talk.politics.guns', 'comp.graphics', 'rec.autos', 'talk.religion.misc', 'sci.space', 'alt.atheism', 'talk.politics.mideast', 'alt.atheism', 'soc.religion.christian', 'rec.motorcycles', 'sci.med', 'alt.atheism', 'talk.politics.guns', 'comp.sys.ibm.pc.hardware', 'sci.crypt', 'talk.religion.misc', 'sci.med', 'sci.med', 'sci.med', 'talk.politics.guns', 'talk.politics.guns', 'comp.graphics', 'sci.space', 'talk.politics.mideast', 'comp.os.ms-windows.misc', 'comp.sys.mac.hardware', 'rec.autos', 'rec.sport.hockey', 'rec.sport.hockey', 'talk.politics.misc', 'alt.atheism', 'talk.politics.misc', 'misc.forsale', 'sci.crypt', 'rec.autos', 'talk.politics.misc', 'comp.os.ms-windows.misc', 'talk.politics.guns', 'rec.sport.hockey', 'comp.graphics', 'sci.med', 'sci.space', 'talk.politics.misc', 'comp.windows.x', 'comp.windows.x', 'comp.sys.mac.hardware', 'rec.motorcycles', 'alt.atheism', 'sci.space', 'rec.autos', 'comp.windows.x', 'rec.autos', 'misc.forsale', 'comp.sys.ibm.pc.hardware', 'soc.religion.christian', 'rec.autos', 'sci.electronics', 'sci.electronics', 'soc.religion.christian', 'rec.sport.baseball', 'talk.politics.mideast', 'comp.sys.ibm.pc.hardware', 'sci.med', 'talk.politics.guns', 'sci.electronics', 'rec.sport.baseball', 'comp.sys.mac.hardware', 'talk.politics.misc', 'comp.sys.mac.hardware', 'sci.med', 'rec.sport.baseball', 'comp.sys.ibm.pc.hardware', 'talk.politics.misc', 'rec.sport.hockey', 'comp.graphics', 'sci.med', 'talk.politics.guns', 'rec.sport.baseball', 'comp.os.ms-windows.misc', 'talk.politics.guns', 'comp.windows.x', 'talk.religion.misc', 'soc.religion.christian', 'comp.sys.ibm.pc.hardware', 'talk.politics.misc', 'talk.politics.guns', 'soc.religion.christian', 'misc.forsale', 'rec.sport.baseball', 'comp.os.ms-windows.misc', 'sci.med', 'soc.religion.christian', 'comp.os.ms-windows.misc', 'talk.politics.misc', 'rec.motorcycles', 'rec.autos', 'talk.politics.guns', 'alt.atheism', 'rec.sport.baseball', 'rec.motorcycles', 'comp.windows.x', 'comp.graphics', 'talk.politics.guns', 'comp.graphics', 'sci.space', 'sci.electronics', 'talk.politics.guns', 'rec.motorcycles', 'rec.motorcycles', 'sci.med', 'comp.sys.mac.hardware', 'comp.sys.mac.hardware', 'talk.politics.misc', 'sci.electronics', 'comp.graphics', 'sci.med', 'talk.politics.misc', 'talk.politics.mideast', 'comp.sys.ibm.pc.hardware', 'sci.space', 'comp.sys.mac.hardware', 'soc.religion.christian', 'misc.forsale', 'alt.atheism', 'rec.autos', 'rec.motorcycles', 'talk.politics.guns', 'alt.atheism', 'sci.crypt', 'comp.sys.mac.hardware', 'sci.electronics', 'rec.sport.baseball', 'comp.graphics', 'sci.med', 'rec.autos', 'sci.med', 'rec.autos', 'comp.graphics', 'comp.os.ms-windows.misc', 'misc.forsale', 'soc.religion.christian', 'sci.med', 'soc.religion.christian', 'rec.motorcycles', 'soc.religion.christian', 'rec.motorcycles', 'comp.graphics', 'comp.sys.mac.hardware', 'sci.med', 'sci.med', 'comp.sys.ibm.pc.hardware', 'comp.windows.x', 'comp.sys.mac.hardware', 'comp.os.ms-windows.misc', 'rec.sport.hockey', 'comp.sys.mac.hardware', 'sci.crypt', 'rec.sport.baseball', 'comp.graphics', 'talk.politics.mideast', 'soc.religion.christian', 'rec.autos', 'sci.crypt', 'sci.space', 'comp.windows.x', 'comp.graphics', 'comp.windows.x', 'rec.sport.hockey', 'rec.motorcycles', 'comp.sys.ibm.pc.hardware', 'soc.religion.christian', 'comp.sys.ibm.pc.hardware', 'alt.atheism', 'talk.religion.misc', 'rec.motorcycles', 'rec.sport.hockey', 'talk.politics.guns', 'comp.graphics', 'sci.med', 'comp.windows.x', 'talk.politics.mideast', 'comp.windows.x', 'talk.politics.misc', 'sci.electronics', 'comp.graphics', 'sci.crypt', 'sci.med', 'comp.windows.x', 'rec.sport.hockey', 'talk.politics.misc', 'sci.med', 'comp.sys.ibm.pc.hardware', 'soc.religion.christian', 'alt.atheism', 'comp.windows.x', 'sci.space', 'sci.crypt', 'comp.sys.ibm.pc.hardware', 'comp.sys.mac.hardware', 'talk.religion.misc', 'alt.atheism', 'comp.windows.x', 'sci.crypt', 'talk.politics.mideast', 'comp.os.ms-windows.misc', 'talk.politics.misc', 'alt.atheism', 'rec.motorcycles', 'misc.forsale', 'sci.electronics', 'alt.atheism', 'rec.sport.baseball', 'sci.electronics', 'sci.space', 'misc.forsale', 'comp.graphics', 'talk.politics.guns', 'rec.motorcycles', 'talk.politics.guns', 'soc.religion.christian', 'rec.sport.baseball', 'sci.electronics', 'misc.forsale', 'comp.sys.mac.hardware', 'sci.crypt', 'rec.motorcycles', 'sci.electronics', 'comp.sys.ibm.pc.hardware', 'soc.religion.christian', 'misc.forsale', 'talk.politics.mideast', 'soc.religion.christian', 'rec.sport.hockey', 'comp.sys.mac.hardware', 'talk.religion.misc', 'comp.graphics', 'sci.med', 'rec.sport.hockey', 'comp.windows.x', 'rec.sport.hockey', 'rec.sport.baseball', 'talk.politics.mideast', 'comp.windows.x', 'rec.sport.hockey', 'soc.religion.christian', 'rec.autos', 'sci.space', 'soc.religion.christian', 'sci.crypt', 'alt.atheism', 'sci.space', 'sci.electronics', 'comp.os.ms-windows.misc', 'talk.politics.guns', 'talk.religion.misc', 'rec.autos', 'rec.autos', 'comp.windows.x', 'rec.motorcycles', 'comp.graphics', 'rec.sport.hockey', 'sci.crypt', 'talk.politics.guns', 'talk.politics.mideast', 'soc.religion.christian', 'comp.windows.x', 'sci.med', 'comp.sys.mac.hardware', 'rec.sport.hockey', 'comp.os.ms-windows.misc', 'sci.space', 'comp.sys.ibm.pc.hardware', 'misc.forsale', 'rec.autos', 'sci.space', 'soc.religion.christian', 'sci.space', 'sci.electronics', 'comp.sys.ibm.pc.hardware', 'comp.sys.ibm.pc.hardware', 'talk.politics.mideast', 'comp.graphics', 'talk.religion.misc', 'rec.sport.baseball', 'sci.space', 'comp.windows.x', 'talk.religion.misc', 'rec.sport.baseball', 'rec.autos', 'soc.religion.christian', 'alt.atheism', 'rec.sport.baseball', 'misc.forsale', 'soc.religion.christian', 'alt.atheism', 'soc.religion.christian', 'rec.sport.hockey', 'misc.forsale', 'talk.religion.misc', 'comp.sys.mac.hardware', 'sci.med', 'talk.religion.misc', 'comp.os.ms-windows.misc', 'comp.sys.mac.hardware', 'sci.med', 'talk.politics.mideast', 'rec.motorcycles', 'sci.space', 'sci.electronics', 'misc.forsale', 'talk.politics.misc', 'soc.religion.christian', 'rec.motorcycles', 'alt.atheism', 'rec.autos', 'talk.religion.misc', 'rec.sport.hockey', 'misc.forsale', 'talk.politics.guns', 'talk.politics.guns', 'sci.electronics', 'talk.politics.misc', 'misc.forsale', 'alt.atheism', 'rec.motorcycles', 'rec.sport.baseball', 'sci.crypt', 'sci.space', 'talk.politics.mideast', 'rec.sport.baseball', 'comp.sys.mac.hardware', 'soc.religion.christian', 'talk.politics.guns', 'sci.space', 'comp.sys.mac.hardware', 'rec.motorcycles', 'comp.sys.mac.hardware', 'comp.sys.mac.hardware', 'talk.religion.misc', 'comp.windows.x', 'comp.windows.x', 'comp.sys.ibm.pc.hardware', 'rec.autos', 'sci.space', 'sci.crypt', 'rec.autos', 'sci.electronics', 'alt.atheism', 'sci.med', 'sci.space', 'rec.motorcycles', 'comp.graphics', 'alt.atheism', 'sci.electronics', 'misc.forsale', 'rec.sport.hockey', 'comp.sys.ibm.pc.hardware', 'rec.sport.baseball', 'talk.politics.guns', 'sci.crypt', 'sci.med', 'rec.autos', 'misc.forsale', 'comp.windows.x', 'sci.med', 'soc.religion.christian', 'comp.os.ms-windows.misc', 'rec.autos', 'misc.forsale', 'comp.sys.ibm.pc.hardware', 'talk.religion.misc', 'talk.politics.mideast', 'rec.sport.baseball', 'sci.crypt', 'comp.sys.ibm.pc.hardware', 'comp.sys.mac.hardware', 'talk.politics.guns', 'comp.windows.x', 'rec.autos', 'rec.motorcycles', 'alt.atheism', 'rec.motorcycles', 'comp.os.ms-windows.misc', 'comp.sys.mac.hardware', 'misc.forsale', 'talk.politics.mideast', 'rec.motorcycles', 'sci.electronics', 'rec.sport.baseball', 'misc.forsale', 'rec.motorcycles', 'soc.religion.christian', 'rec.sport.baseball', 'comp.graphics', 'rec.autos', 'rec.autos', 'alt.atheism', 'rec.sport.hockey', 'sci.med', 'sci.crypt', 'comp.windows.x', 'comp.graphics', 'sci.electronics', 'sci.space', 'sci.crypt', 'comp.graphics', 'sci.crypt', 'comp.sys.ibm.pc.hardware', 'rec.motorcycles', 'comp.sys.mac.hardware', 'talk.politics.mideast', 'talk.politics.mideast', 'sci.med', 'sci.space', 'alt.atheism', 'comp.graphics', 'comp.graphics', 'sci.space', 'alt.atheism', 'talk.politics.mideast', 'sci.med', 'talk.politics.guns', 'misc.forsale', 'talk.politics.mideast', 'alt.atheism', 'rec.sport.baseball', 'rec.autos', 'talk.politics.misc', 'comp.sys.ibm.pc.hardware', 'comp.os.ms-windows.misc', 'misc.forsale', 'sci.med', 'rec.sport.hockey', 'talk.politics.guns', 'alt.atheism', 'sci.space', 'alt.atheism', 'comp.windows.x', 'comp.sys.mac.hardware', 'sci.electronics', 'comp.graphics', 'talk.politics.guns', 'rec.motorcycles', 'rec.sport.baseball', 'sci.space', 'misc.forsale', 'sci.space', 'rec.sport.hockey', 'comp.sys.mac.hardware', 'comp.graphics', 'misc.forsale', 'rec.autos', 'talk.politics.misc', 'rec.sport.baseball', 'comp.sys.mac.hardware', 'rec.motorcycles', 'comp.sys.mac.hardware', 'sci.crypt', 'rec.motorcycles', 'talk.politics.mideast', 'comp.sys.mac.hardware', 'rec.autos', 'sci.space', 'comp.os.ms-windows.misc', 'talk.politics.mideast', 'talk.politics.misc', 'rec.autos', 'rec.sport.baseball', 'comp.sys.ibm.pc.hardware', 'sci.space', 'talk.religion.misc', 'rec.motorcycles', 'talk.politics.guns', 'sci.crypt', 'talk.politics.guns', 'talk.politics.guns', 'talk.politics.mideast', 'comp.windows.x', 'sci.med', 'comp.windows.x', 'rec.autos', 'misc.forsale', 'talk.politics.mideast', 'sci.electronics', 'misc.forsale', 'rec.motorcycles', 'alt.atheism', 'talk.politics.mideast', 'talk.politics.misc', 'rec.motorcycles', 'sci.crypt', 'rec.sport.baseball', 'misc.forsale', 'sci.crypt', 'misc.forsale', 'misc.forsale', 'sci.electronics', 'sci.med', 'talk.politics.guns', 'comp.sys.mac.hardware', 'comp.graphics', 'comp.sys.mac.hardware', 'rec.sport.hockey', 'misc.forsale', 'rec.sport.baseball', 'talk.politics.misc', 'sci.space', 'rec.autos', 'misc.forsale', 'rec.autos', 'comp.os.ms-windows.misc', 'talk.religion.misc', 'comp.os.ms-windows.misc', 'comp.sys.mac.hardware', 'comp.sys.mac.hardware', 'soc.religion.christian', 'talk.religion.misc', 'talk.politics.guns', 'misc.forsale', 'sci.space', 'talk.politics.mideast', 'rec.sport.baseball', 'comp.sys.ibm.pc.hardware', 'rec.autos', 'sci.med', 'rec.motorcycles', 'sci.crypt', 'sci.space', 'sci.space', 'sci.space', 'talk.politics.guns', 'alt.atheism', 'rec.autos', 'talk.politics.guns', 'comp.sys.mac.hardware', 'comp.graphics', 'comp.os.ms-windows.misc', 'comp.graphics', 'comp.os.ms-windows.misc', 'rec.sport.baseball', 'talk.politics.guns', 'sci.med', 'talk.politics.mideast', 'comp.sys.ibm.pc.hardware', 'rec.autos', 'rec.motorcycles', 'rec.sport.baseball', 'comp.sys.mac.hardware', 'talk.politics.mideast', 'sci.crypt', 'rec.autos', 'talk.politics.mideast', 'misc.forsale', 'talk.politics.guns', 'talk.politics.misc', 'comp.graphics', 'comp.os.ms-windows.misc', 'rec.sport.baseball', 'rec.motorcycles', 'rec.sport.hockey', 'sci.electronics', 'misc.forsale', 'rec.motorcycles', 'comp.os.ms-windows.misc', 'comp.windows.x', 'soc.religion.christian', 'sci.electronics', 'sci.electronics', 'soc.religion.christian', 'talk.politics.mideast', 'rec.motorcycles', 'comp.os.ms-windows.misc', 'sci.med', 'comp.sys.mac.hardware', 'rec.motorcycles', 'comp.sys.ibm.pc.hardware', 'sci.crypt', 'comp.sys.ibm.pc.hardware', 'sci.space', 'comp.sys.ibm.pc.hardware', 'sci.electronics', 'soc.religion.christian', 'misc.forsale', 'misc.forsale', 'comp.sys.mac.hardware', 'rec.motorcycles', 'comp.sys.mac.hardware', 'sci.crypt', 'talk.politics.guns', 'comp.sys.mac.hardware', 'rec.sport.hockey', 'comp.windows.x', 'talk.politics.guns', 'rec.autos', 'misc.forsale', 'talk.politics.guns', 'soc.religion.christian', 'sci.crypt', 'sci.med', 'rec.autos', 'comp.sys.ibm.pc.hardware', 'soc.religion.christian', 'talk.politics.guns', 'comp.os.ms-windows.misc', 'sci.med', 'comp.windows.x', 'sci.crypt', 'comp.sys.mac.hardware', 'talk.politics.guns', 'soc.religion.christian', 'alt.atheism', 'comp.os.ms-windows.misc', 'comp.graphics', 'rec.sport.hockey', 'sci.med', 'talk.politics.mideast', 'talk.politics.misc', 'comp.graphics', 'alt.atheism', 'comp.sys.ibm.pc.hardware', 'rec.sport.hockey', 'misc.forsale', 'comp.os.ms-windows.misc', 'talk.politics.mideast', 'rec.autos', 'rec.sport.baseball', 'rec.sport.baseball', 'comp.os.ms-windows.misc', 'rec.autos', 'talk.politics.guns', 'rec.sport.hockey', 'talk.religion.misc', 'sci.crypt', 'comp.windows.x', 'talk.politics.guns', 'rec.autos', 'sci.med', 'misc.forsale', 'rec.autos', 'rec.autos', 'sci.crypt', 'sci.crypt', 'talk.religion.misc', 'sci.space', 'rec.autos', 'rec.sport.hockey', 'comp.os.ms-windows.misc', 'sci.electronics', 'sci.electronics', 'talk.politics.guns', 'alt.atheism', 'comp.os.ms-windows.misc', 'talk.politics.misc', 'talk.politics.guns', 'comp.graphics', 'sci.electronics', 'sci.space', 'rec.sport.baseball', 'sci.electronics', 'talk.politics.guns', 'alt.atheism', 'comp.os.ms-windows.misc', 'rec.motorcycles', 'talk.religion.misc', 'comp.sys.mac.hardware', 'talk.politics.misc', 'alt.atheism', 'talk.religion.misc', 'comp.graphics', 'comp.windows.x', 'misc.forsale', 'sci.space', 'sci.electronics', 'sci.electronics', 'rec.motorcycles', 'sci.electronics', 'misc.forsale', 'sci.electronics', 'soc.religion.christian', 'talk.religion.misc', 'sci.space', 'comp.sys.ibm.pc.hardware', 'alt.atheism', 'alt.atheism', 'comp.windows.x', 'rec.sport.hockey', 'comp.sys.mac.hardware', 'comp.sys.ibm.pc.hardware', 'sci.space', 'comp.graphics', 'comp.sys.mac.hardware', 'comp.windows.x', 'rec.sport.hockey', 'comp.windows.x', 'talk.politics.misc', 'sci.space', 'comp.graphics', 'rec.autos', 'misc.forsale', 'soc.religion.christian', 'talk.politics.guns', 'sci.space', 'rec.motorcycles', 'comp.sys.ibm.pc.hardware', 'alt.atheism', 'sci.med', 'misc.forsale', 'alt.atheism', 'soc.religion.christian', 'comp.sys.mac.hardware', 'misc.forsale', 'talk.politics.misc', 'comp.sys.ibm.pc.hardware', 'sci.med', 'talk.religion.misc', 'alt.atheism', 'comp.windows.x', 'comp.os.ms-windows.misc', 'sci.electronics', 'rec.sport.baseball', 'talk.politics.guns', 'rec.autos', 'misc.forsale', 'rec.sport.hockey', 'rec.autos', 'rec.motorcycles', 'sci.med', 'comp.graphics', 'comp.os.ms-windows.misc', 'rec.sport.baseball', 'soc.religion.christian', 'rec.motorcycles', 'misc.forsale', 'comp.os.ms-windows.misc', 'sci.crypt', 'rec.sport.hockey', 'talk.religion.misc', 'comp.windows.x', 'talk.religion.misc', 'comp.sys.mac.hardware', 'comp.windows.x', 'talk.politics.mideast', 'talk.politics.mideast', 'sci.med', 'talk.religion.misc', 'sci.space', 'comp.sys.mac.hardware', 'rec.autos', 'misc.forsale', 'soc.religion.christian', 'comp.graphics', 'sci.med', 'comp.sys.ibm.pc.hardware', 'rec.motorcycles', 'misc.forsale', 'comp.sys.mac.hardware', 'sci.med', 'misc.forsale', 'comp.windows.x', 'rec.autos', 'comp.windows.x', 'comp.sys.mac.hardware', 'rec.motorcycles', 'sci.electronics', 'alt.atheism', 'sci.space', 'rec.sport.hockey', 'sci.electronics', 'talk.religion.misc', 'talk.politics.mideast', 'sci.electronics', 'rec.sport.hockey', 'comp.graphics', 'talk.politics.guns', 'soc.religion.christian', 'comp.os.ms-windows.misc', 'rec.sport.hockey', 'talk.religion.misc', 'sci.electronics', 'rec.sport.baseball', 'soc.religion.christian', 'comp.graphics', 'sci.med', 'talk.politics.misc', 'rec.autos', 'comp.graphics', 'comp.windows.x', 'sci.electronics', 'rec.sport.baseball', 'rec.autos', 'talk.religion.misc', 'rec.sport.baseball', 'alt.atheism', 'talk.politics.misc', 'rec.sport.baseball', 'comp.graphics', 'sci.electronics', 'comp.windows.x', 'talk.politics.misc', 'comp.sys.ibm.pc.hardware', 'talk.politics.guns', 'rec.motorcycles', 'rec.autos', 'comp.sys.ibm.pc.hardware', 'talk.politics.guns', 'comp.os.ms-windows.misc', 'misc.forsale', 'comp.sys.mac.hardware', 'rec.sport.baseball', 'sci.electronics', 'talk.politics.guns', 'talk.religion.misc', 'rec.sport.hockey', 'comp.os.ms-windows.misc', 'comp.graphics', 'sci.electronics', 'sci.space', 'rec.motorcycles', 'rec.sport.baseball', 'comp.sys.ibm.pc.hardware', 'talk.politics.guns', 'talk.politics.guns', 'sci.electronics', 'comp.os.ms-windows.misc', 'soc.religion.christian', 'rec.sport.baseball', 'sci.crypt', 'rec.sport.baseball', 'comp.windows.x', 'talk.politics.guns', 'talk.politics.misc', 'comp.sys.mac.hardware', 'comp.graphics', 'rec.autos', 'rec.sport.baseball', 'rec.sport.hockey', 'talk.politics.guns', 'soc.religion.christian', 'sci.space', 'soc.religion.christian', 'alt.atheism', 'rec.autos', 'soc.religion.christian', 'comp.sys.mac.hardware', 'talk.politics.mideast', 'sci.med', 'comp.sys.mac.hardware', 'sci.space', 'soc.religion.christian', 'sci.space', 'sci.crypt', 'misc.forsale', 'soc.religion.christian', 'talk.politics.guns', 'talk.politics.mideast', 'misc.forsale', 'talk.religion.misc', 'rec.motorcycles', 'rec.motorcycles', 'talk.politics.misc', 'comp.sys.mac.hardware', 'talk.politics.misc', 'rec.motorcycles', 'rec.sport.baseball', 'rec.sport.hockey', 'sci.crypt', 'comp.sys.ibm.pc.hardware', 'talk.politics.mideast', 'comp.sys.ibm.pc.hardware', 'alt.atheism', 'sci.space', 'rec.sport.baseball', 'talk.politics.mideast', 'comp.sys.ibm.pc.hardware', 'talk.religion.misc', 'talk.politics.guns', 'rec.motorcycles', 'rec.autos', 'talk.politics.guns', 'sci.med', 'talk.politics.misc', 'talk.politics.misc', 'talk.religion.misc', 'rec.autos', 'rec.autos', 'rec.sport.baseball', 'comp.windows.x', 'sci.crypt', 'comp.sys.mac.hardware', 'comp.os.ms-windows.misc', 'sci.space', 'comp.sys.mac.hardware', 'comp.windows.x', 'comp.graphics', 'rec.motorcycles', 'talk.politics.mideast', 'talk.politics.mideast', 'rec.motorcycles', 'rec.motorcycles', 'comp.os.ms-windows.misc', 'talk.politics.mideast', 'alt.atheism', 'comp.windows.x', 'sci.crypt', 'talk.politics.misc', 'sci.space', 'sci.space', 'alt.atheism', 'sci.med', 'misc.forsale', 'comp.sys.ibm.pc.hardware', 'talk.politics.guns', 'talk.politics.guns', 'alt.atheism', 'talk.politics.mideast', 'rec.autos', 'comp.graphics', 'sci.space', 'talk.politics.guns', 'alt.atheism', 'rec.autos', 'sci.space', 'rec.sport.hockey', 'rec.motorcycles', 'sci.space', 'comp.graphics', 'comp.sys.mac.hardware', 'talk.politics.misc', 'misc.forsale', 'rec.sport.hockey', 'comp.windows.x', 'comp.sys.mac.hardware', 'misc.forsale', 'alt.atheism', 'sci.med', 'sci.crypt', 'rec.motorcycles', 'sci.space', 'rec.sport.hockey', 'rec.autos', 'soc.religion.christian', 'comp.windows.x', 'soc.religion.christian', 'alt.atheism', 'sci.electronics', 'rec.sport.hockey', 'misc.forsale', 'sci.crypt', 'soc.religion.christian', 'rec.sport.hockey', 'sci.med', 'rec.autos', 'sci.med', 'alt.atheism', 'sci.space', 'rec.sport.hockey', 'alt.atheism', 'comp.sys.mac.hardware', 'rec.sport.baseball', 'rec.sport.baseball', 'talk.politics.mideast', 'misc.forsale', 'sci.space', 'sci.med', 'talk.politics.misc', 'talk.politics.misc', 'alt.atheism', 'rec.sport.baseball', 'sci.med', 'talk.politics.misc', 'comp.graphics', 'rec.motorcycles', 'rec.sport.baseball', 'rec.sport.hockey', 'rec.motorcycles', 'talk.politics.guns', 'comp.sys.mac.hardware', 'comp.os.ms-windows.misc', 'comp.windows.x', 'misc.forsale', 'alt.atheism', 'talk.politics.misc', 'sci.med', 'rec.sport.baseball', 'soc.religion.christian', 'sci.crypt', 'comp.graphics', 'talk.politics.guns', 'comp.graphics', 'talk.politics.mideast', 'talk.politics.guns', 'rec.sport.hockey', 'sci.electronics', 'sci.space', 'rec.motorcycles', 'comp.windows.x', 'rec.motorcycles', 'misc.forsale', 'rec.motorcycles', 'sci.crypt', 'misc.forsale', 'sci.med', 'comp.sys.mac.hardware', 'soc.religion.christian', 'rec.motorcycles', 'talk.religion.misc', 'comp.sys.mac.hardware', 'comp.sys.mac.hardware', 'talk.politics.guns', 'soc.religion.christian', 'rec.sport.hockey', 'comp.windows.x', 'comp.windows.x', 'comp.windows.x', 'comp.sys.ibm.pc.hardware', 'alt.atheism', 'sci.crypt', 'talk.politics.misc', 'misc.forsale', 'talk.politics.misc', 'comp.sys.mac.hardware', 'comp.sys.ibm.pc.hardware', 'talk.politics.misc', 'talk.religion.misc', 'talk.politics.mideast', 'comp.windows.x', 'comp.sys.mac.hardware', 'comp.sys.mac.hardware', 'talk.politics.guns', 'rec.motorcycles', 'comp.sys.mac.hardware', 'comp.sys.mac.hardware', 'talk.politics.misc', 'sci.crypt', 'comp.graphics', 'talk.politics.mideast', 'rec.sport.hockey', 'rec.sport.baseball', 'comp.graphics', 'soc.religion.christian', 'talk.politics.mideast', 'talk.politics.guns', 'comp.graphics', 'rec.autos', 'sci.electronics', 'misc.forsale', 'soc.religion.christian', 'sci.electronics', 'misc.forsale', 'sci.electronics']\n"
     ]
    }
   ],
   "source": [
    "\n",
    "Y_predict,Y_test_in= predict(data_train_dictionary, data_test)\n",
    "print(Y_predict)\n",
    "    "
   ]
  },
  {
   "cell_type": "code",
   "execution_count": 25,
   "metadata": {},
   "outputs": [
    {
     "name": "stdout",
     "output_type": "stream",
     "text": [
      "                          precision    recall  f1-score   support\n",
      "\n",
      "             alt.atheism       0.70      0.79      0.74       151\n",
      "           comp.graphics       0.76      0.76      0.76       139\n",
      " comp.os.ms-windows.misc       0.81      0.77      0.79       142\n",
      "comp.sys.ibm.pc.hardware       0.75      0.81      0.78       150\n",
      "   comp.sys.mac.hardware       0.79      0.86      0.83       153\n",
      "          comp.windows.x       0.90      0.82      0.86       159\n",
      "            misc.forsale       0.76      0.85      0.81       143\n",
      "               rec.autos       0.78      0.86      0.81       154\n",
      "         rec.motorcycles       0.80      0.95      0.87       155\n",
      "      rec.sport.baseball       0.89      0.91      0.90       149\n",
      "        rec.sport.hockey       0.93      0.92      0.92       151\n",
      "               sci.crypt       0.94      0.86      0.90       146\n",
      "         sci.electronics       0.73      0.81      0.77       134\n",
      "                 sci.med       0.91      0.81      0.85       156\n",
      "               sci.space       0.92      0.88      0.90       163\n",
      "  soc.religion.christian       0.93      0.97      0.95       150\n",
      "      talk.politics.guns       0.81      0.86      0.83       160\n",
      "   talk.politics.mideast       0.89      0.81      0.85       149\n",
      "      talk.politics.misc       0.75      0.64      0.69       150\n",
      "      talk.religion.misc       0.65      0.43      0.52       143\n",
      "\n",
      "             avg / total       0.82      0.82      0.82      2997\n",
      "\n",
      "[[119   0   1   0   1   0   1   1   2   2   1   1   0   3   0   1   1   2\n",
      "    1  14]\n",
      " [  0 105   5   4   6   3   2   0   1   2   1   0   5   3   2   0   0   0\n",
      "    0   0]\n",
      " [  2   4 109  13   2   4   3   2   0   0   0   0   3   0   0   0   0   0\n",
      "    0   0]\n",
      " [  0   0   3 121   6   4   4   6   1   1   0   0   4   0   0   0   0   0\n",
      "    0   0]\n",
      " [  0   2   2   8 132   1   3   0   0   0   1   1   2   0   1   0   0   0\n",
      "    0   0]\n",
      " [  0  13   5   3   3 131   1   0   0   0   0   1   1   1   0   0   0   0\n",
      "    0   0]\n",
      " [  0   0   1   2   0   1 122   3   4   1   1   0   5   1   1   0   0   0\n",
      "    1   0]\n",
      " [  0   0   0   1   5   1   4 132   6   0   0   0   3   0   0   0   2   0\n",
      "    0   0]\n",
      " [  0   0   0   0   2   0   2   3 147   1   0   0   0   0   0   0   0   0\n",
      "    0   0]\n",
      " [  1   1   0   0   1   0   1   2   1 136   3   0   2   0   1   0   0   0\n",
      "    0   0]\n",
      " [  0   0   0   1   0   0   1   2   1   4 139   0   0   0   0   2   0   0\n",
      "    1   0]\n",
      " [  0   3   1   2   1   1   0   1   2   0   0 125   3   0   0   0   2   1\n",
      "    4   0]\n",
      " [  0   3   2   4   4   0   3   5   1   0   0   2 108   0   1   0   0   0\n",
      "    1   0]\n",
      " [  5   3   2   0   0   0   6   2   5   0   1   0   2 126   3   0   0   1\n",
      "    0   0]\n",
      " [  2   2   1   0   2   0   1   0   3   1   0   0   4   2 144   0   0   0\n",
      "    1   0]\n",
      " [  0   1   0   0   0   0   0   1   0   1   0   0   0   0   0 145   0   1\n",
      "    1   0]\n",
      " [  0   0   1   1   1   0   2   1   4   1   0   3   3   0   0   0 138   0\n",
      "    2   3]\n",
      " [  6   1   0   2   1   0   2   3   3   1   1   0   0   1   0   0   1 121\n",
      "    5   1]\n",
      " [  1   0   0   0   0   0   1   2   1   1   2   0   0   2   2   0  16  10\n",
      "   96  16]\n",
      " [ 35   0   2   0   0   0   1   4   1   0   0   0   3   0   1   8  11   0\n",
      "   15  62]]\n"
     ]
    }
   ],
   "source": [
    "from sklearn.metrics import classification_report,confusion_matrix\n",
    "print(classification_report(Y_test_in,Y_predict))\n",
    "print(confusion_matrix(Y_test_in,Y_predict))"
   ]
  }
 ],
 "metadata": {
  "kernelspec": {
   "display_name": "Python 3",
   "language": "python",
   "name": "python3"
  },
  "language_info": {
   "codemirror_mode": {
    "name": "ipython",
    "version": 3
   },
   "file_extension": ".py",
   "mimetype": "text/x-python",
   "name": "python",
   "nbconvert_exporter": "python",
   "pygments_lexer": "ipython3",
   "version": "3.6.3"
  }
 },
 "nbformat": 4,
 "nbformat_minor": 2
}
